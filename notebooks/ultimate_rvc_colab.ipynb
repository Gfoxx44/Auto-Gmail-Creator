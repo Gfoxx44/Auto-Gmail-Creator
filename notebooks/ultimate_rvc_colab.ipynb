{
  "cells": [
    {
      "cell_type": "markdown",
      "metadata": {
        "id": "view-in-github",
        "colab_type": "text"
      },
      "source": [
        "<a href=\"https://colab.research.google.com/github/Gfoxx44/Auto-Gmail-Creator/blob/master/notebooks/ultimate_rvc_colab.ipynb\" target=\"_parent\"><img src=\"https://colab.research.google.com/assets/colab-badge.svg\" alt=\"Open In Colab\"/></a>"
      ]
    },
    {
      "cell_type": "markdown",
      "metadata": {
        "id": "kmyCzJVyCymN"
      },
      "source": [
        "Colab for [Ultimate RVC](https://github.com/JackismyShephard/ultimate-rvc)\n",
        "\n",
        "This Colab notebook will **help** you if you don’t have a GPU or if your PC isn’t very powerful.\n",
        "\n",
        "Simply click `Runtime` in the top navigation bar and `Run all`. Wait for the output of the final cell to show the public gradio url and click on it.\n",
        "\n",
        "NOTE: If Ultimate RVC is running too slowly with the default sharing method (gradio), consider instead selecting \"ngrok\" as sharing method.\n",
        "This method requires supplying an access token, which you can find on [ngrok](https://ngrok.com/) after creating a personal account.\n",
        "The ngrok link output in the final cell will lead you to a new site which will redirect you to Ultimate RVC."
      ]
    },
    {
      "cell_type": "code",
      "execution_count": 1,
      "metadata": {
        "id": "wV7OOEZ-vjue",
        "outputId": "5f7d6ea5-bae6-4753-9b96-740922000d24",
        "colab": {
          "base_uri": "https://localhost:8080/"
        }
      },
      "outputs": [
        {
          "output_type": "stream",
          "name": "stdout",
          "text": [
            "time: 59.8 ms (started: 2025-10-23 15:51:13 +00:00)\n"
          ]
        }
      ],
      "source": [
        "# @title 0: Initialize notebook\n",
        "%pip install ipython-autotime pyngrok\n",
        "%load_ext autotime\n",
        "\n",
        "import codecs\n",
        "import os\n",
        "import time\n",
        "from pathlib import Path\n",
        "from urllib import request\n",
        "\n",
        "import ipywidgets as widgets\n",
        "from IPython.display import clear_output\n",
        "from IPython.display import display as i_display\n",
        "from pyngrok import ngrok\n",
        "\n",
        "clear_output()"
      ]
    },
    {
      "cell_type": "code",
      "execution_count": 2,
      "metadata": {
        "cellView": "form",
        "id": "aaokDv1VzpAX",
        "outputId": "9cd11fcb-1c3f-4254-bb60-13b22b79e715",
        "colab": {
          "base_uri": "https://localhost:8080/"
        }
      },
      "outputs": [
        {
          "output_type": "stream",
          "name": "stdout",
          "text": [
            "time: 1.92 s (started: 2025-10-23 15:51:13 +00:00)\n"
          ]
        }
      ],
      "source": [
        "# @title 1: Clone repository\n",
        "cloneing = codecs.decode(\n",
        "    \"uggcf://tvguho.pbz/WnpxvfzlFurcuneq/hygvzngr-eip.tvg\",\n",
        "    \"rot_13\",\n",
        ")\n",
        "\n",
        "!git clone $cloneing HRVC\n",
        "%cd /content/HRVC\n",
        "clear_output()"
      ]
    },
    {
      "cell_type": "code",
      "execution_count": 3,
      "metadata": {
        "cellView": "form",
        "id": "lVGNygIa0F_1",
        "outputId": "53e0ddd0-64c8-491b-d08c-9f7bd1c736ff",
        "colab": {
          "base_uri": "https://localhost:8080/"
        }
      },
      "outputs": [
        {
          "output_type": "stream",
          "name": "stdout",
          "text": [
            "time: 4min 14s (started: 2025-10-23 15:51:15 +00:00)\n"
          ]
        }
      ],
      "source": [
        "# @title 2: Install dependencies\n",
        "\n",
        "light = codecs.decode(\"uggcf://nfgeny.fu/hi/0.6.3/vafgnyy.fu\", \"rot_13\")\n",
        "inits = codecs.decode(\"./fep/hygvzngr_eip/pber/znva.cl\", \"rot_13\")\n",
        "prerelease = \"--prerelease if-necessary-or-explicit\"\n",
        "\n",
        "!apt install -y python3-dev unzip\n",
        "!curl -LsSf $light | sh\n",
        "\n",
        "os.environ[\"URVC_CONSOLE_LOG_LEVEL\"] = \"WARNING\"\n",
        "!uv run -q $prerelease $inits\n",
        "!uv add $prerelease matplotlib-inline==0.1.7\n",
        "clear_output()"
      ]
    },
    {
      "cell_type": "code",
      "execution_count": null,
      "metadata": {
        "cellView": "form",
        "id": "lVGNygIa0F_2",
        "outputId": "5f51ca50-85b6-4ec8-be34-ea8accef82ad",
        "colab": {
          "base_uri": "https://localhost:8080/"
        }
      },
      "outputs": [
        {
          "output_type": "stream",
          "name": "stdout",
          "text": [
            "\u001b[2mBytecode compiled \u001b[1m18299 files\u001b[0m \u001b[2min 1.29s\u001b[0m\u001b[0m\n",
            "* Running on local URL:  http://127.0.0.1:7860\n",
            "* Running on public URL: https://ed17493de4954dd935.gradio.live\n",
            "\n",
            "This share link expires in 1 week. For free permanent hosting and GPU upgrades, run `gradio deploy` from the terminal in the working directory to deploy to Hugging Face Spaces (https://huggingface.co/spaces)\n",
            "Traceback (most recent call last):\n",
            "  File \"/content/HRVC/.venv/lib/python3.12/site-packages/gradio/queueing.py\", line 625, in process_events\n",
            "    response = await route_utils.call_process_api(\n",
            "               ^^^^^^^^^^^^^^^^^^^^^^^^^^^^^^^^^^^\n",
            "  File \"/content/HRVC/.venv/lib/python3.12/site-packages/gradio/route_utils.py\", line 322, in call_process_api\n",
            "    output = await app.get_blocks().process_api(\n",
            "             ^^^^^^^^^^^^^^^^^^^^^^^^^^^^^^^^^^^\n",
            "  File \"/content/HRVC/.venv/lib/python3.12/site-packages/gradio/blocks.py\", line 2136, in process_api\n",
            "    result = await self.call_function(\n",
            "             ^^^^^^^^^^^^^^^^^^^^^^^^^\n",
            "  File \"/content/HRVC/.venv/lib/python3.12/site-packages/gradio/blocks.py\", line 1662, in call_function\n",
            "    prediction = await anyio.to_thread.run_sync(  # type: ignore\n",
            "                 ^^^^^^^^^^^^^^^^^^^^^^^^^^^^^^^^^^^^^^^^^^^^^^^\n",
            "  File \"/content/HRVC/.venv/lib/python3.12/site-packages/anyio/to_thread.py\", line 56, in run_sync\n",
            "    return await get_async_backend().run_sync_in_worker_thread(\n",
            "           ^^^^^^^^^^^^^^^^^^^^^^^^^^^^^^^^^^^^^^^^^^^^^^^^^^^^\n",
            "  File \"/content/HRVC/.venv/lib/python3.12/site-packages/anyio/_backends/_asyncio.py\", line 2485, in run_sync_in_worker_thread\n",
            "    return await future\n",
            "           ^^^^^^^^^^^^\n",
            "  File \"/content/HRVC/.venv/lib/python3.12/site-packages/anyio/_backends/_asyncio.py\", line 976, in run\n",
            "    result = context.run(func, *args)\n",
            "             ^^^^^^^^^^^^^^^^^^^^^^^^\n",
            "  File \"/content/HRVC/.venv/lib/python3.12/site-packages/gradio/utils.py\", line 883, in wrapper\n",
            "    response = f(*args, **kwargs)\n",
            "               ^^^^^^^^^^^^^^^^^^\n",
            "  File \"/content/HRVC/src/ultimate_rvc/web/common.py\", line 75, in _wrapped_fn\n",
            "    raise gr.Error(str(msg)) from None\n",
            "gradio.exceptions.Error: 'No voice model selected.'\n",
            "\u001b[1m[\u001b[0m~\u001b[1m]\u001b[0m Retrieving song\u001b[33m...\u001b[0m\n",
            "\u001b[1m[\u001b[0m~\u001b[1m]\u001b[0m Separating vocals from instrumentals\u001b[33m...\u001b[0m\n",
            "4.38kiB [00:00, 11.4MiB/s]      \n",
            "15.4kiB [00:00, 37.7MiB/s]      \n",
            "2025-10-23 16:16:00 - WARNING - audio_separator.separator.separator - Model converted from onnx to pytorch due to segment size not matching dim_t, processing may be slower.\n",
            "100% 20/20 [00:22<00:00,  1.10s/it]\n",
            "100% 16/16 [00:04<00:00,  3.35it/s]\n",
            "\u001b[1m[\u001b[0m~\u001b[1m]\u001b[0m Separating main vocals from backup vocals\u001b[33m...\u001b[0m\n",
            "2025-10-23 16:16:49 - WARNING - audio_separator.separator.separator - Model converted from onnx to pytorch due to segment size not matching dim_t, processing may be slower.\n",
            "100% 20/20 [00:14<00:00,  1.34it/s]\n",
            "100% 16/16 [00:03<00:00,  4.84it/s]\n",
            "\u001b[1m[\u001b[0m~\u001b[1m]\u001b[0m De-reverbing vocals\u001b[33m...\u001b[0m\n",
            "2025-10-23 16:17:09 - WARNING - audio_separator.separator.separator - Model converted from onnx to pytorch due to segment size not matching dim_t, processing may be slower.\n",
            "100% 40/40 [00:21<00:00,  1.88it/s]\n",
            "100% 30/30 [00:03<00:00,  9.56it/s]\n",
            "\u001b[1m[\u001b[0m~\u001b[1m]\u001b[0m Converting vocals\u001b[33m...\u001b[0m\n",
            "\u001b[1m[\u001b[0m~\u001b[1m]\u001b[0m Post-processing vocals\u001b[33m...\u001b[0m\n",
            "\u001b[1m[\u001b[0m~\u001b[1m]\u001b[0m Pitch-shifting instrumentals\u001b[33m...\u001b[0m\n",
            "\u001b[1m[\u001b[0m~\u001b[1m]\u001b[0m Pitch-shifting backup vocals\u001b[33m...\u001b[0m\n",
            "\u001b[1m[\u001b[0m~\u001b[1m]\u001b[0m Retrieving song\u001b[33m...\u001b[0m\n",
            "\u001b[1m[\u001b[0m~\u001b[1m]\u001b[0m Separating vocals from instrumentals\u001b[33m...\u001b[0m\n",
            "\u001b[1m[\u001b[0m~\u001b[1m]\u001b[0m Separating main vocals from backup vocals\u001b[33m...\u001b[0m\n",
            "\u001b[1m[\u001b[0m~\u001b[1m]\u001b[0m De-reverbing vocals\u001b[33m...\u001b[0m\n",
            "\u001b[1m[\u001b[0m~\u001b[1m]\u001b[0m Converting vocals\u001b[33m...\u001b[0m\n",
            "\u001b[1m[\u001b[0m~\u001b[1m]\u001b[0m Post-processing vocals\u001b[33m...\u001b[0m\n",
            "\u001b[1m[\u001b[0m~\u001b[1m]\u001b[0m Pitch-shifting instrumentals\u001b[33m...\u001b[0m\n",
            "\u001b[1m[\u001b[0m~\u001b[1m]\u001b[0m Pitch-shifting backup vocals\u001b[33m...\u001b[0m\n",
            "\u001b[1m[\u001b[0m~\u001b[1m]\u001b[0m Retrieving song\u001b[33m...\u001b[0m\n",
            "\u001b[0;33mWARNING:\u001b[0m [youtube] nUenUqBsTCE: Signature extraction failed: Some formats may be missing\n",
            "         player = https://www.youtube.com/s/player/6e4dbefe/player_ias.vflset/en_US/base.js\n",
            "         Please report this issue on  https://github.com/yt-dlp/yt-dlp/issues?q= , filling out the appropriate issue template. Confirm you are on the latest version using  yt-dlp -U\n",
            "\u001b[0;33mWARNING:\u001b[0m [youtube] nUenUqBsTCE: Some web_safari client https formats have been skipped as they are missing a url. YouTube is forcing SABR streaming for this client. See  https://github.com/yt-dlp/yt-dlp/issues/12482  for more details\n",
            "\u001b[0;33mWARNING:\u001b[0m [youtube] nUenUqBsTCE: Some web client https formats have been skipped as they are missing a url. YouTube is forcing SABR streaming for this client. See  https://github.com/yt-dlp/yt-dlp/issues/12482  for more details\n",
            "\u001b[K\u001b[1m[\u001b[0m~\u001b[1m]\u001b[0m Separating vocals from instrumentals\u001b[33m...\u001b[0m\n",
            "2025-10-23 16:24:13 - WARNING - audio_separator.separator.separator - Model converted from onnx to pytorch due to segment size not matching dim_t, processing may be slower.\n",
            "100% 25/25 [00:26<00:00,  1.06s/it]\n",
            "100% 20/20 [00:05<00:00,  3.62it/s]\n",
            "\u001b[1m[\u001b[0m~\u001b[1m]\u001b[0m Separating main vocals from backup vocals\u001b[33m...\u001b[0m\n",
            "2025-10-23 16:24:47 - WARNING - audio_separator.separator.separator - Model converted from onnx to pytorch due to segment size not matching dim_t, processing may be slower.\n",
            "100% 26/26 [00:19<00:00,  1.36it/s]\n",
            "100% 20/20 [00:05<00:00,  3.81it/s]\n",
            "\u001b[1m[\u001b[0m~\u001b[1m]\u001b[0m De-reverbing vocals\u001b[33m...\u001b[0m\n",
            "2025-10-23 16:25:14 - WARNING - audio_separator.separator.separator - Model converted from onnx to pytorch due to segment size not matching dim_t, processing may be slower.\n",
            "100% 50/50 [00:27<00:00,  1.84it/s]\n",
            "100% 38/38 [00:03<00:00,  9.90it/s]\n",
            "\u001b[1m[\u001b[0m~\u001b[1m]\u001b[0m Converting vocals\u001b[33m...\u001b[0m\n",
            "\u001b[1m[\u001b[0m~\u001b[1m]\u001b[0m Post-processing vocals\u001b[33m...\u001b[0m\n",
            "\u001b[1m[\u001b[0m~\u001b[1m]\u001b[0m Pitch-shifting instrumentals\u001b[33m...\u001b[0m\n",
            "\u001b[1m[\u001b[0m~\u001b[1m]\u001b[0m Pitch-shifting backup vocals\u001b[33m...\u001b[0m\n",
            "\u001b[1m[\u001b[0m~\u001b[1m]\u001b[0m Retrieving song\u001b[33m...\u001b[0m\n",
            "\u001b[1m[\u001b[0m~\u001b[1m]\u001b[0m Separating vocals from instrumentals\u001b[33m...\u001b[0m\n",
            "\u001b[1m[\u001b[0m~\u001b[1m]\u001b[0m Separating main vocals from backup vocals\u001b[33m...\u001b[0m\n",
            "\u001b[1m[\u001b[0m~\u001b[1m]\u001b[0m De-reverbing vocals\u001b[33m...\u001b[0m\n",
            "\u001b[1m[\u001b[0m~\u001b[1m]\u001b[0m Converting vocals\u001b[33m...\u001b[0m\n",
            "\u001b[1m[\u001b[0m~\u001b[1m]\u001b[0m Post-processing vocals\u001b[33m...\u001b[0m\n",
            "\u001b[1m[\u001b[0m~\u001b[1m]\u001b[0m Pitch-shifting instrumentals\u001b[33m...\u001b[0m\n",
            "\u001b[1m[\u001b[0m~\u001b[1m]\u001b[0m Pitch-shifting backup vocals\u001b[33m...\u001b[0m\n",
            "\u001b[1m[\u001b[0m~\u001b[1m]\u001b[0m Retrieving song\u001b[33m...\u001b[0m\n",
            "\u001b[1m[\u001b[0m~\u001b[1m]\u001b[0m Separating vocals from instrumentals\u001b[33m...\u001b[0m\n",
            "\u001b[1m[\u001b[0m~\u001b[1m]\u001b[0m Separating main vocals from backup vocals\u001b[33m...\u001b[0m\n",
            "\u001b[1m[\u001b[0m~\u001b[1m]\u001b[0m De-reverbing vocals\u001b[33m...\u001b[0m\n",
            "\u001b[1m[\u001b[0m~\u001b[1m]\u001b[0m Converting vocals\u001b[33m...\u001b[0m\n",
            "\u001b[1m[\u001b[0m~\u001b[1m]\u001b[0m Post-processing vocals\u001b[33m...\u001b[0m\n",
            "\u001b[1m[\u001b[0m~\u001b[1m]\u001b[0m Pitch-shifting instrumentals\u001b[33m...\u001b[0m\n",
            "\u001b[1m[\u001b[0m~\u001b[1m]\u001b[0m Pitch-shifting backup vocals\u001b[33m...\u001b[0m\n",
            "100% 4/4 [00:00<00:00,  6.11it/s]\n",
            "\u001b[1m[\u001b[0m~\u001b[1m]\u001b[0m Extracting pitch features\u001b[33m...\u001b[0m\n",
            "100% 65/65 [00:02<00:00, 27.42it/s]\n",
            "\u001b[1m[\u001b[0m~\u001b[1m]\u001b[0m Extracting audio embeddings\u001b[33m...\u001b[0m\n",
            "100% 65/65 [00:01<00:00, 39.05it/s]\n",
            "/content/HRVC/.venv/lib/python3.12/site-packages/torch/utils/data/dataloader.py:627: UserWarning: This DataLoader will create 4 worker processes in total. Our suggested max number of worker in current system is 2, which is smaller than what this DataLoader is going to create. Please be aware that excessive worker creation might get DataLoader running slow or even freeze, lower the worker number to avoid potential slowness/freeze if necessary.\n",
            "  warnings.warn(\n",
            "/content/HRVC/.venv/lib/python3.12/site-packages/torch/utils/data/dataloader.py:627: UserWarning: This DataLoader will create 4 worker processes in total. Our suggested max number of worker in current system is 2, which is smaller than what this DataLoader is going to create. Please be aware that excessive worker creation might get DataLoader running slow or even freeze, lower the worker number to avoid potential slowness/freeze if necessary.\n",
            "  warnings.warn(\n",
            "fulldata | epoch=1 | time=16:42:16 | speed=0:00:40 | best avg-gen-loss=8.118 (epoch 1)\n",
            "fulldata | epoch=2 | time=16:42:30 | speed=0:00:13 | best avg-gen-loss=7.670 (epoch 2)\n",
            "fulldata | epoch=3 | time=16:42:44 | speed=0:00:13 | best avg-gen-loss=7.186 (epoch 3)\n",
            "fulldata | epoch=4 | time=16:42:57 | speed=0:00:13 | best avg-gen-loss=7.142 (epoch 4)\n",
            "fulldata | epoch=5 | time=16:43:10 | speed=0:00:13 | best avg-gen-loss=6.835 (epoch 5)\n",
            "fulldata | epoch=6 | time=16:43:24 | speed=0:00:12 | best avg-gen-loss=6.754 (epoch 6)\n",
            "fulldata | epoch=7 | time=16:43:37 | speed=0:00:13 | best avg-gen-loss=6.646 (epoch 7)\n",
            "fulldata | epoch=8 | time=16:43:50 | speed=0:00:13 | best avg-gen-loss=6.468 (epoch 8)\n",
            "fulldata | epoch=9 | time=16:44:03 | speed=0:00:13 | best avg-gen-loss=6.468 (epoch 8)\n",
            "fulldata | epoch=10 | time=16:44:16 | speed=0:00:13 | best avg-gen-loss=6.468 (epoch 8)\n",
            "2025-10-23 16:44:56 - WARNING - ultimate_rvc.rvc.train.train - Process running on device 0 exited with code -15.\n",
            "\u001b[1m[\u001b[0m~\u001b[1m]\u001b[0m Retrieving song\u001b[33m...\u001b[0m\n",
            "\u001b[1m[\u001b[0m~\u001b[1m]\u001b[0m Separating vocals from instrumentals\u001b[33m...\u001b[0m\n",
            "\u001b[1m[\u001b[0m~\u001b[1m]\u001b[0m Separating main vocals from backup vocals\u001b[33m...\u001b[0m\n",
            "\u001b[1m[\u001b[0m~\u001b[1m]\u001b[0m De-reverbing vocals\u001b[33m...\u001b[0m\n",
            "\u001b[1m[\u001b[0m~\u001b[1m]\u001b[0m Converting vocals\u001b[33m...\u001b[0m\n",
            "\u001b[1m[\u001b[0m~\u001b[1m]\u001b[0m Post-processing vocals\u001b[33m...\u001b[0m\n",
            "\u001b[1m[\u001b[0m~\u001b[1m]\u001b[0m Pitch-shifting instrumentals\u001b[33m...\u001b[0m\n",
            "\u001b[1m[\u001b[0m~\u001b[1m]\u001b[0m Pitch-shifting backup vocals\u001b[33m...\u001b[0m\n",
            "\u001b[1m[\u001b[0m~\u001b[1m]\u001b[0m Retrieving song\u001b[33m...\u001b[0m\n",
            "\u001b[1m[\u001b[0m~\u001b[1m]\u001b[0m Separating vocals from instrumentals\u001b[33m...\u001b[0m\n",
            "\u001b[1m[\u001b[0m~\u001b[1m]\u001b[0m Separating main vocals from backup vocals\u001b[33m...\u001b[0m\n",
            "\u001b[1m[\u001b[0m~\u001b[1m]\u001b[0m De-reverbing vocals\u001b[33m...\u001b[0m\n",
            "\u001b[1m[\u001b[0m~\u001b[1m]\u001b[0m Converting vocals\u001b[33m...\u001b[0m\n",
            "\u001b[1m[\u001b[0m~\u001b[1m]\u001b[0m Post-processing vocals\u001b[33m...\u001b[0m\n",
            "\u001b[1m[\u001b[0m~\u001b[1m]\u001b[0m Pitch-shifting instrumentals\u001b[33m...\u001b[0m\n",
            "\u001b[1m[\u001b[0m~\u001b[1m]\u001b[0m Pitch-shifting backup vocals\u001b[33m...\u001b[0m\n",
            "\u001b[1m[\u001b[0m~\u001b[1m]\u001b[0m Retrieving song\u001b[33m...\u001b[0m\n",
            "\u001b[1m[\u001b[0m~\u001b[1m]\u001b[0m Separating vocals from instrumentals\u001b[33m...\u001b[0m\n",
            "\u001b[1m[\u001b[0m~\u001b[1m]\u001b[0m Separating main vocals from backup vocals\u001b[33m...\u001b[0m\n",
            "\u001b[1m[\u001b[0m~\u001b[1m]\u001b[0m De-reverbing vocals\u001b[33m...\u001b[0m\n",
            "\u001b[1m[\u001b[0m~\u001b[1m]\u001b[0m Converting vocals\u001b[33m...\u001b[0m\n",
            "\u001b[1m[\u001b[0m~\u001b[1m]\u001b[0m Post-processing vocals\u001b[33m...\u001b[0m\n",
            "\u001b[1m[\u001b[0m~\u001b[1m]\u001b[0m Pitch-shifting instrumentals\u001b[33m...\u001b[0m\n",
            "\u001b[1m[\u001b[0m~\u001b[1m]\u001b[0m Pitch-shifting backup vocals\u001b[33m...\u001b[0m\n",
            "\u001b[1m[\u001b[0m~\u001b[1m]\u001b[0m Retrieving song\u001b[33m...\u001b[0m\n",
            "\u001b[1m[\u001b[0m~\u001b[1m]\u001b[0m Separating vocals from instrumentals\u001b[33m...\u001b[0m\n",
            "2025-10-23 16:50:35 - WARNING - audio_separator.separator.separator - Model converted from onnx to pytorch due to segment size not matching dim_t, processing may be slower.\n",
            "100% 19/19 [00:27<00:00,  1.44s/it]\n",
            "100% 15/15 [00:04<00:00,  3.09it/s]\n",
            "\u001b[1m[\u001b[0m~\u001b[1m]\u001b[0m Separating main vocals from backup vocals\u001b[33m...\u001b[0m\n",
            "2025-10-23 16:51:10 - WARNING - audio_separator.separator.separator - Model converted from onnx to pytorch due to segment size not matching dim_t, processing may be slower.\n",
            "100% 19/19 [00:19<00:00,  1.02s/it]\n",
            "100% 15/15 [00:03<00:00,  4.47it/s]\n",
            "\u001b[1m[\u001b[0m~\u001b[1m]\u001b[0m De-reverbing vocals\u001b[33m...\u001b[0m\n",
            "2025-10-23 16:51:35 - WARNING - audio_separator.separator.separator - Model converted from onnx to pytorch due to segment size not matching dim_t, processing may be slower.\n",
            "100% 37/37 [00:23<00:00,  1.57it/s]\n",
            "100% 28/28 [00:03<00:00,  7.88it/s]\n",
            "\u001b[1m[\u001b[0m~\u001b[1m]\u001b[0m Converting vocals\u001b[33m...\u001b[0m\n",
            "\u001b[1m[\u001b[0m~\u001b[1m]\u001b[0m Post-processing vocals\u001b[33m...\u001b[0m\n",
            "\u001b[1m[\u001b[0m~\u001b[1m]\u001b[0m Pitch-shifting instrumentals\u001b[33m...\u001b[0m\n",
            "\u001b[1m[\u001b[0m~\u001b[1m]\u001b[0m Pitch-shifting backup vocals\u001b[33m...\u001b[0m\n",
            "\u001b[1m[\u001b[0m~\u001b[1m]\u001b[0m Retrieving song\u001b[33m...\u001b[0m\n",
            "\u001b[1m[\u001b[0m~\u001b[1m]\u001b[0m Separating vocals from instrumentals\u001b[33m...\u001b[0m\n",
            "\u001b[1m[\u001b[0m~\u001b[1m]\u001b[0m Separating main vocals from backup vocals\u001b[33m...\u001b[0m\n",
            "\u001b[1m[\u001b[0m~\u001b[1m]\u001b[0m De-reverbing vocals\u001b[33m...\u001b[0m\n",
            "\u001b[1m[\u001b[0m~\u001b[1m]\u001b[0m Converting vocals\u001b[33m...\u001b[0m\n",
            "\u001b[1m[\u001b[0m~\u001b[1m]\u001b[0m Post-processing vocals\u001b[33m...\u001b[0m\n",
            "\u001b[1m[\u001b[0m~\u001b[1m]\u001b[0m Pitch-shifting instrumentals\u001b[33m...\u001b[0m\n",
            "\u001b[1m[\u001b[0m~\u001b[1m]\u001b[0m Pitch-shifting backup vocals\u001b[33m...\u001b[0m\n",
            "\u001b[1m[\u001b[0m~\u001b[1m]\u001b[0m Retrieving song\u001b[33m...\u001b[0m\n",
            "\u001b[1m[\u001b[0m~\u001b[1m]\u001b[0m Separating vocals from instrumentals\u001b[33m...\u001b[0m\n",
            "\u001b[1m[\u001b[0m~\u001b[1m]\u001b[0m Separating main vocals from backup vocals\u001b[33m...\u001b[0m\n",
            "\u001b[1m[\u001b[0m~\u001b[1m]\u001b[0m De-reverbing vocals\u001b[33m...\u001b[0m\n",
            "\u001b[1m[\u001b[0m~\u001b[1m]\u001b[0m Converting vocals\u001b[33m...\u001b[0m\n",
            "\u001b[1m[\u001b[0m~\u001b[1m]\u001b[0m Post-processing vocals\u001b[33m...\u001b[0m\n",
            "\u001b[1m[\u001b[0m~\u001b[1m]\u001b[0m Pitch-shifting instrumentals\u001b[33m...\u001b[0m\n",
            "\u001b[1m[\u001b[0m~\u001b[1m]\u001b[0m Pitch-shifting backup vocals\u001b[33m...\u001b[0m\n",
            "\u001b[1m[\u001b[0m~\u001b[1m]\u001b[0m Retrieving song\u001b[33m...\u001b[0m\n",
            "\u001b[1m[\u001b[0m~\u001b[1m]\u001b[0m Separating vocals from instrumentals\u001b[33m...\u001b[0m\n",
            "\u001b[1m[\u001b[0m~\u001b[1m]\u001b[0m Separating main vocals from backup vocals\u001b[33m...\u001b[0m\n",
            "\u001b[1m[\u001b[0m~\u001b[1m]\u001b[0m De-reverbing vocals\u001b[33m...\u001b[0m\n",
            "\u001b[1m[\u001b[0m~\u001b[1m]\u001b[0m Converting vocals\u001b[33m...\u001b[0m\n",
            "\u001b[1m[\u001b[0m~\u001b[1m]\u001b[0m Post-processing vocals\u001b[33m...\u001b[0m\n",
            "\u001b[1m[\u001b[0m~\u001b[1m]\u001b[0m Pitch-shifting instrumentals\u001b[33m...\u001b[0m\n",
            "\u001b[1m[\u001b[0m~\u001b[1m]\u001b[0m Pitch-shifting backup vocals\u001b[33m...\u001b[0m\n"
          ]
        }
      ],
      "source": [
        "# @title 3: Run Ultimate RVC\n",
        "# @markdown  #### Choose a sharing method:\n",
        "\n",
        "method = \"gradio\"  # @param [\"gradio\",  \"ngrok\", \"cloudflared\",\"localtunnel\"]\n",
        "ngrok_token = \"34TPWtySrFaocdj0etvUYqs9poO_7sctqNjhTcijNsPCo11zt\"  # @param {type:\"string\"}\n",
        "runpice = codecs.decode(\"./fep/hygvzngr_eip/jro/znva.cl\", \"rot_13\")\n",
        "\n",
        "if method == \"gradio\":\n",
        "    !uv run $prerelease $runpice --share\n",
        "elif method == \"ngrok\":\n",
        "    try:\n",
        "        ngrok.set_auth_token(ngrok_token)\n",
        "        ngrok.kill()\n",
        "        tunnel = ngrok.connect(6969)\n",
        "        print(f\"Ngrok URL: {tunnel.public_url}\")\n",
        "        !uv run $prerelease $runpice --listen-port 6969\n",
        "    except Exception as e:  # noqa: BLE001\n",
        "        print(f\"Error starting ngrok: {e}\")\n",
        "elif method == \"cloudflared\":\n",
        "    !curl -LO https://github.com/cloudflare/cloudflared/releases/latest/download/cloudflared-linux-amd64.deb\n",
        "    !dpkg -i cloudflared-linux-amd64.deb\n",
        "    clear_output()\n",
        "    !rm -rf nohup.out\n",
        "    !nohup cloudflared tunnel --url localhost:6969 &\n",
        "    clear_output()\n",
        "    time.sleep(10)\n",
        "    cloudflare_url = !grep -oE \"https://[a-zA-Z0-9.-]+\\.trycloudflare\\.com\" nohup.out\n",
        "    print(f\"URVC Public URL: {cloudflare_url}\")\n",
        "    !uv run $prerelease $runpice --listen-port 6969\n",
        "elif method == \"localtunnel\":\n",
        "    !npm install -g localtunnel &>/dev/null\n",
        "    Path(\"url.txt\").open(\"w\", encoding=\"utf-8\").close()\n",
        "    !lt --port 6969 >> url.txt 2>&1 &\n",
        "    time.sleep(2)\n",
        "    endpoint_ip = (\n",
        "        request.urlopen(\"https://ipv4.icanhazip.com\").read().decode(\"utf8\").strip(\"\\n\")\n",
        "    )\n",
        "    tunnel_url = (\n",
        "        Path(\"url.txt\").read_text(encoding=\"utf-8\").replace(\"your url is: \", \"\")\n",
        "    )\n",
        "    print(f\"Share Link: {tunnel_url}\")\n",
        "    password_endpoint_widget = widgets.Text(\n",
        "        value=endpoint_ip,\n",
        "        description=\"Password IP:\",\n",
        "        disabled=True,\n",
        "    )\n",
        "    i_display(password_endpoint_widget)\n",
        "    !uv run $prerelease $runpice --listen-port 6969"
      ]
    }
  ],
  "metadata": {
    "accelerator": "GPU",
    "colab": {
      "gpuType": "T4",
      "provenance": [],
      "include_colab_link": true
    },
    "kernelspec": {
      "display_name": "Python 3",
      "name": "python3"
    },
    "language_info": {
      "name": "python"
    }
  },
  "nbformat": 4,
  "nbformat_minor": 0
}